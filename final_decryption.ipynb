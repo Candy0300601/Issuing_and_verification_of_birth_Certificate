{
 "cells": [
  {
   "cell_type": "code",
   "execution_count": null,
   "id": "1f15f9a6-10ea-4fb8-a9d0-de9c9f3b7ec7",
   "metadata": {},
   "outputs": [],
   "source": [
    "from cryptography.hazmat.backends import default_backend\n",
    "from cryptography.hazmat.primitives import serialization, hashes\n",
    "from cryptography.hazmat.primitives.asymmetric import ec\n",
    "from cryptography.exceptions import InvalidSignature\n",
    "\n",
    "def load_public_key(public_key_text):\n",
    "    try:\n",
    "        # Construct PEM formatted public key string\n",
    "        pem_data = f\"-----BEGIN PUBLIC KEY-----\\n{public_key_text}\\n-----END PUBLIC KEY-----\\n\"\n",
    "        # Load PEM formatted public key\n",
    "        public_key = serialization.load_pem_public_key(pem_data.encode(), backend=default_backend())\n",
    "        return public_key\n",
    "    except Exception as e:\n",
    "        print(\"Error loading public key:\", e)\n",
    "        return None\n",
    "\n",
    "def verify_signature(hash_value, signature, public_key, algorithm):\n",
    "    backend = default_backend()\n",
    "    \n",
    "    if algorithm.startswith(\"ECDSA\"):\n",
    "        if \"secp256k1\" in algorithm:\n",
    "            hash_algorithm = hashes.SHA256()\n",
    "        else:\n",
    "            hash_algorithm = hashes.get_hash_algorithm_by_name(algorithm.split()[-1])()\n",
    "        try:\n",
    "            public_key.verify(signature, hash_value, ec.ECDSA(hash_algorithm))\n",
    "            return True\n",
    "        except InvalidSignature:\n",
    "            return False\n",
    "\n",
    "    # Add verification for other algorithms if needed...\n",
    "\n",
    "    else:\n",
    "        return False\n",
    "\n",
    "# Example usage:\n",
    "hash_value_hex = input(\"Enter the hash value (in hexadecimal): \")  # Input the hash value in hexadecimal\n",
    "signature_input = bytes.fromhex(input(\"Enter the signature: \"))  # Input the signature\n",
    "\n",
    "# Input the public key\n",
    "while True:\n",
    "    public_key_text = input(\"Enter the public key text (in hex or base64 format): \")\n",
    "    public_key = load_public_key(public_key_text)\n",
    "    if public_key:\n",
    "        break\n",
    "    else:\n",
    "        print(\"Invalid public key format. Please try again.\")\n",
    "\n",
    "algorithm = \"ECDSA secp256k1\"  # Replace with the actual algorithm\n",
    "\n",
    "# Verify the signature\n",
    "if verify_signature(bytes.fromhex(hash_value_hex), signature_input, public_key, algorithm):\n",
    "    print(\"Signature is valid.\")\n",
    "else:\n",
    "    print(\"Signature is invalid.\")"
   ]
  }
 ],
 "metadata": {
  "kernelspec": {
   "display_name": "Python 3 (ipykernel)",
   "language": "python",
   "name": "python3"
  },
  "language_info": {
   "codemirror_mode": {
    "name": "ipython",
    "version": 3
   },
   "file_extension": ".py",
   "mimetype": "text/x-python",
   "name": "python",
   "nbconvert_exporter": "python",
   "pygments_lexer": "ipython3",
   "version": "3.11.7"
  }
 },
 "nbformat": 4,
 "nbformat_minor": 5
}
